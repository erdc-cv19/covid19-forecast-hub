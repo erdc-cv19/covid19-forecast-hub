{
 "cells": [
  {
   "cell_type": "code",
   "execution_count": 1,
   "metadata": {},
   "outputs": [],
   "source": [
    "import pandas as pd\n",
    "import os\n",
    "from pathlib import Path\n",
    "import numpy as np"
   ]
  },
  {
   "cell_type": "code",
   "execution_count": 9,
   "metadata": {},
   "outputs": [],
   "source": [
    "root =(Path(os.getcwd())/'..').resolve()\n",
    "df=pd.read_csv(\"https://raw.githubusercontent.com/CSSEGISandData/COVID-19/master/csse_covid_19_data/csse_covid_19_time_series/time_series_covid19_deaths_US.csv\")\n",
    "\n",
    "# In[3]:\n",
    "locs = pd.read_csv(open(root/'data-locations'/'locations.csv', 'r'))\n",
    "locs = locs[locs['location']!='US'].astype({'location':'int64'})\n",
    "\n",
    "# In[4]:\n",
    "\n",
    "\n",
    "st_pop = df[[ 'Province_State', 'Population']].groupby(\n",
    "    'Province_State').sum().reset_index().rename(\n",
    "    columns={'Province_State':'location_name', 'Population': 'population'}\n",
    ").merge(\n",
    "    locs, how='left',on='location_name'\n",
    ").dropna(subset=['abbreviation'])\n",
    "pop_df = df[df['FIPS'].notna()][['FIPS', 'Province_State', 'Admin2','Population']].astype({'FIPS':'int64'}).rename(columns={'FIPS':'location', 'Population':'population'})\n",
    "pop_df = pd.concat([pop_df, st_pop]).astype({'location':'int64'})[['location', 'Province_State', 'Admin2','population']]\n",
    "\n",
    "# In[5]:\n",
    "\n",
    "\n",
    "df_pop = locs.merge(\n",
    "    pop_df, how='left', on='location'\n",
    ")[['abbreviation', 'location', 'location_name', 'population']].drop_duplicates()\n",
    "\n",
    "# In[6]:\n",
    "\n",
    "df_pop['location'] = df_pop['location'].astype(str).apply(lambda x: '{0:0>2}'.format(x)).apply(lambda x: '{0:0>2}'.format(x))\n",
    "\n",
    "df_pop.loc[df_pop['abbreviation'].isna(), 'location'] = df_pop.loc[df_pop['abbreviation'].isna(), 'location'].apply(lambda x: '{0:0>5}'.format(x))\n",
    "\n",
    "\n",
    "top_row = pd.DataFrame({'abbreviation':['US'],'location':['US'],'location_name':['US'], 'population': [np.sum(st_pop[st_pop['location'] < 57]['population'])]})\n",
    "df_pop = pd.concat([top_row, df_pop]).reset_index(drop = True)\n",
    "\n",
    "df_pop.to_csv(open(root/'data-locations'/'locations-v2.csv','w'), index=False)\n",
    "\n"
   ]
  }
 ],
 "metadata": {
  "kernelspec": {
   "display_name": "Python 3",
   "language": "python",
   "name": "python3"
  },
  "language_info": {
   "codemirror_mode": {
    "name": "ipython",
    "version": 3
   },
   "file_extension": ".py",
   "mimetype": "text/x-python",
   "name": "python",
   "nbconvert_exporter": "python",
   "pygments_lexer": "ipython3",
   "version": "3.8.3"
  }
 },
 "nbformat": 4,
 "nbformat_minor": 4
}
