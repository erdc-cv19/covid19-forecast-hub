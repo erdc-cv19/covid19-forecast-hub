{
 "metadata": {
  "language_info": {
   "codemirror_mode": {
    "name": "ipython",
    "version": 3
   },
   "file_extension": ".py",
   "mimetype": "text/x-python",
   "name": "python",
   "nbconvert_exporter": "python",
   "pygments_lexer": "ipython3",
   "version": "3.9.0-final"
  },
  "orig_nbformat": 2,
  "kernelspec": {
   "name": "Python 3.9.0 64-bit ('env')",
   "display_name": "Python 3.9.0 64-bit ('env')",
   "metadata": {
    "interpreter": {
     "hash": "602edf9b04266b02565cd46e27f499e2b8b10ef59f3dbdfa09f9844e1c9f7ecc"
    }
   }
  }
 },
 "nbformat": 4,
 "nbformat_minor": 2,
 "cells": [
  {
   "cell_type": "code",
   "execution_count": 1,
   "metadata": {},
   "outputs": [],
   "source": [
    "# dependencies\n",
    "import json\n",
    "import os\n",
    "from itertools import filterfalse\n",
    "\n",
    "# zoltpy related dependencies\n",
    "import zoltpy.util as zutil\n",
    "from zoltpy.connection import ZoltarConnection\n",
    "from zoltpy.quantile_io import json_io_dict_from_quantile_csv_file\n",
    "from zoltpy.cdc_io import YYYY_MM_DD_DATE_FORMAT\n",
    "from zoltpy.covid19 import COVID_TARGETS, covid19_row_validator, validate_quantile_csv_file, COVID_ADDL_REQ_COLS"
   ]
  },
  {
   "cell_type": "code",
   "execution_count": 2,
   "metadata": {},
   "outputs": [
    {
     "output_type": "stream",
     "name": "stdout",
     "text": [
      "/Users/dhuang/workspace/reichlab/covid19-forecast-hub/code/notebooks\n"
     ]
    }
   ],
   "source": [
    "# check current working directory\n",
    "print(os.getcwd())"
   ]
  },
  {
   "cell_type": "code",
   "execution_count": 3,
   "metadata": {},
   "outputs": [
    {
     "output_type": "stream",
     "name": "stdout",
     "text": [
      "1763\n"
     ]
    }
   ],
   "source": [
    "# hash db file path\n",
    "HASH_DB_PATH = '../zoltar_scripts/validated_file_db.json'\n",
    "\n",
    "# load hash database\n",
    "with open(HASH_DB_PATH, 'r') as f:\n",
    "    hash_db = json.load(f)\n",
    "\n",
    "print(len(hash_db))"
   ]
  },
  {
   "cell_type": "code",
   "execution_count": 4,
   "metadata": {},
   "outputs": [],
   "source": [
    "# metadata fields to Zoltar params\n",
    "MD_FIELDS_ZOLTAR_PARAMS = {\n",
    "    'team_name': 'team_name',\n",
    "    'model_name': 'name',\n",
    "    'model_abbr': 'abbreviation',\n",
    "    'model_contributors': 'contributors',\n",
    "    'website_url': 'home_url',\n",
    "    'license': 'license',\n",
    "    'team_model_designation': 'notes',\n",
    "    'methods': 'description',\n",
    "    'repo_url': 'aux_data_url',\n",
    "    'citation': 'citation',\n",
    "    'methods_long': 'methods'\n",
    "}"
   ]
  },
  {
   "cell_type": "code",
   "execution_count": 5,
   "metadata": {},
   "outputs": [
    {
     "output_type": "stream",
     "name": "stdout",
     "text": [
      "Do we have Zoltar credentials? yes\n"
     ]
    }
   ],
   "source": [
    "# make sure that we have the required environment variables\n",
    "is_have_zoltar_credentials = False\n",
    "Z_USERNAME, Z_PASSWORD = map(os.environ.get, ['Z_USERNAME', 'Z_PASSWORD'])\n",
    "if Z_USERNAME and Z_PASSWORD:\n",
    "    is_have_zoltar_credentials = True\n",
    "\n",
    "print(f'Do we have Zoltar credentials? {\"yes\" if is_have_zoltar_credentials else \"no\"}')"
   ]
  },
  {
   "cell_type": "code",
   "execution_count": 21,
   "metadata": {},
   "outputs": [
    {
     "output_type": "stream",
     "name": "stdout",
     "text": [
      "Connection established with Zoltar\n"
     ]
    }
   ],
   "source": [
    "# get connection to Zoltar\n",
    "conn = ZoltarConnection()\n",
    "try:\n",
    "    conn.authenticate('covid19hub', 'nL82*&dKMvX%')\n",
    "except RuntimeError:\n",
    "    print(f'Connection to Zoltar not established; please try again')\n",
    "\n",
    "print(f'Connection established with Zoltar')"
   ]
  },
  {
   "cell_type": "code",
   "execution_count": 22,
   "metadata": {},
   "outputs": [],
   "source": [
    "# get all existing timezeros and models in the project\n",
    "project_obj = [project for project in conn.projects if project.name == 'COVID-19 Forecasts'][0]\n",
    "model_to_csvs_dict = { \\\n",
    "    model.abbreviation: {f.source: f for f in model.forecasts} for model in project_obj.models \\\n",
    "}"
   ]
  },
  {
   "cell_type": "code",
   "execution_count": 23,
   "metadata": {
    "tags": []
   },
   "source": [
    "# forecast directories path\n",
    "FORECAST_DIRS_PATH = '../../data-processed/'\n",
    "\n",
    "# get forecast directories\n",
    "list_model_directories = filterfalse(\n",
    "    lambda m: not os.path.isdir(f'{FORECAST_DIRS_PATH}{m}'),\n",
    "    os.listdir(FORECAST_DIRS_PATH)\n",
    ")\n",
    "\n",
    "# get forecasts\n",
    "for forecast_dir in list_model_directories:\n",
    "    print(f'current model: {forecast_dir}')\n",
    "    # m.split('.')[1] gets the extension\n",
    "    list_forecast_csvs = filterfalse(\n",
    "        lambda m: m.split('.')[-1] != 'csv',\n",
    "        os.listdir(f'{FORECAST_DIRS_PATH}{forecast_dir}')\n",
    "    )\n",
    "\n",
    "    # iterate through all csvs in forecast directory\n",
    "    # turn on the print statements for more info\n",
    "    for forecast_csv in list_forecast_csvs:\n",
    "        # print(f'checking if forecast {forecast_csv} was recorded...')\n",
    "        is_forecast_hash_not_in_table = forecast_csv not in hash_db\n",
    "        # print( \\\n",
    "        #     f'{forecast_csv} was not recorded.' \\\n",
    "        #     if is_forecast_hash_not_in_table \\\n",
    "        #     else f'{forecast_csv} was recorded.' \\\n",
    "        # )\n",
    "\n",
    "        # print(f'checking if forecast {forecast_csv} is on Zoltar...')\n",
    "        is_forecast_on_zoltar = forecast_csv in model_to_csvs_dict[forecast_dir]\n",
    "        # print( \\\n",
    "        #     f'{forecast_csv} is on Zoltar.' \\\n",
    "        #     if is_forecast_on_zoltar \\\n",
    "        #     else f'{forecast_csv} is not on Zoltar; skipping.' \\\n",
    "        # )\n",
    "\n",
    "        if is_forecast_hash_not_in_table and is_forecast_on_zoltar:\n",
    "            print(f'\\tdeleting {forecast_csv} because its hash is not recorded but it is uploaded to Zoltar...')\n",
    "            job = model_to_csvs_dict[forecast_dir][forecast_csv].delete()\n",
    "            print(f'\\tdelete job for {forecast_csv} enqueued')\n",
    "            pass\n"
   ],
   "outputs": [
    {
     "output_type": "stream",
     "name": "stdout",
     "text": [
      "current model: UCSB-ACTS\n",
      "current model: OliverWyman-Navigator\n",
      "current model: JHUAPL-Bucky\n",
      "\tdeleting 2020-11-09-JHUAPL-Bucky.csv because its hash is not recorded but it is uploaded to Zoltar...\n",
      "\tdelete job for 2020-11-09-JHUAPL-Bucky.csv enqueued\n",
      "current model: DDS-NBDS\n",
      "\tdeleting 2020-11-09-DDS-NBDS.csv because its hash is not recorded but it is uploaded to Zoltar...\n",
      "\tdelete job for 2020-11-09-DDS-NBDS.csv enqueued\n",
      "current model: BPagano-RtDriven\n",
      "current model: UVA-Ensemble\n",
      "\tdeleting 2020-11-09-UVA-Ensemble.csv because its hash is not recorded but it is uploaded to Zoltar...\n",
      "\tdelete job for 2020-11-09-UVA-Ensemble.csv enqueued\n",
      "current model: CU-nochange\n",
      "\tdeleting 2020-11-08-CU-nochange.csv because its hash is not recorded but it is uploaded to Zoltar...\n",
      "\tdelete job for 2020-11-08-CU-nochange.csv enqueued\n",
      "\tdeleting 2020-11-05-CU-nochange.csv because its hash is not recorded but it is uploaded to Zoltar...\n",
      "\tdelete job for 2020-11-05-CU-nochange.csv enqueued\n",
      "current model: RobertWalraven-ESG\n",
      "\tdeleting 2020-11-09-RobertWalraven-ESG.csv because its hash is not recorded but it is uploaded to Zoltar...\n",
      "\tdelete job for 2020-11-09-RobertWalraven-ESG.csv enqueued\n",
      "current model: Covid19Sim-Simulator\n",
      "\tdeleting 2020-11-08-Covid19Sim-Simulator.csv because its hash is not recorded but it is uploaded to Zoltar...\n",
      "\tdelete job for 2020-11-08-Covid19Sim-Simulator.csv enqueued\n",
      "current model: CovidAnalytics-DELPHI\n",
      "\tdeleting 2020-11-09-CovidAnalytics-DELPHI.csv because its hash is not recorded but it is uploaded to Zoltar...\n",
      "\tdelete job for 2020-11-09-CovidAnalytics-DELPHI.csv enqueued\n",
      "current model: MOBS-GLEAM_COVID\n",
      "current model: UCM_MESALab-FoGSEIR\n",
      "\tdeleting 2020-11-08-UCM_MESALab-FoGSEIR.csv because its hash is not recorded but it is uploaded to Zoltar...\n",
      "\tdelete job for 2020-11-08-UCM_MESALab-FoGSEIR.csv enqueued\n",
      "current model: CovidActNow-SEIR_CAN\n",
      "current model: CDDEP-SEIR_MCMC\n",
      "current model: LNQ-ens1\n",
      "current model: GT-DeepCOVID\n",
      "current model: CU-scenario_mid\n",
      "\tdeleting 2020-11-08-CU-scenario_mid.csv because its hash is not recorded but it is uploaded to Zoltar...\n",
      "\tdelete job for 2020-11-08-CU-scenario_mid.csv enqueued\n",
      "\tdeleting 2020-11-05-CU-scenario_mid.csv because its hash is not recorded but it is uploaded to Zoltar...\n",
      "\tdelete job for 2020-11-05-CU-scenario_mid.csv enqueued\n",
      "current model: Geneva-DetGrowth\n",
      "current model: USACE-ERDC_SEIR\n",
      "current model: Yu_Group-CLEP\n",
      "current model: NotreDame-FRED\n",
      "current model: RPI_UW-Mob_Collision\n",
      "current model: CMU-TimeSeries\n",
      "current model: UChicago-CovidIL_30_+\n",
      "current model: NotreDame-mobility\n",
      "current model: MIT_CritData-GBCF\n",
      "current model: Imperial-ensemble1\n",
      "current model: Auquan-SEIR\n",
      "current model: STH-3PU\n",
      "current model: LANL-GrowthRate\n",
      "current model: SWC-TerminusCM\n",
      "current model: Google_Harvard-CPF\n",
      "\tdeleting 2020-11-08-Google_Harvard-CPF.csv because its hash is not recorded but it is uploaded to Zoltar...\n",
      "\tdelete job for 2020-11-08-Google_Harvard-CPF.csv enqueued\n",
      "current model: UChicago-CovidIL_40\n",
      "current model: TTU-squider\n",
      "current model: CU-scenario_low\n",
      "\tdeleting 2020-11-08-CU-scenario_low.csv because its hash is not recorded but it is uploaded to Zoltar...\n",
      "\tdelete job for 2020-11-08-CU-scenario_low.csv enqueued\n",
      "current model: UA-EpiCovDA\n",
      "\tdeleting 2020-11-08-UA-EpiCovDA.csv because its hash is not recorded but it is uploaded to Zoltar...\n",
      "\tdelete job for 2020-11-08-UA-EpiCovDA.csv enqueued\n",
      "current model: QJHong-Encounter\n",
      "current model: Karlen-pypm\n",
      "current model: CEID-Walk\n",
      "\tdeleting 2020-11-09-CEID-Walk.csv because its hash is not recorded but it is uploaded to Zoltar...\n",
      "\tdelete job for 2020-11-09-CEID-Walk.csv enqueued\n",
      "current model: Columbia_UNC-SurvCon\n",
      "current model: UT-Mobility\n",
      "current model: IBF-TimeSeries\n",
      "current model: WalmartLabsML-LogForecasting\n",
      "current model: PandemicCentral-USCounty\n",
      "current model: Quantori-Multiagents\n",
      "current model: Caltech-CS156\n",
      "current model: JHU_IDD-CovidSP\n",
      "\tdeleting 2020-11-08-JHU_IDD-CovidSP.csv because its hash is not recorded but it is uploaded to Zoltar...\n",
      "\tdelete job for 2020-11-08-JHU_IDD-CovidSP.csv enqueued\n",
      "current model: UCLA-SuEIR\n",
      "current model: CU-scenario_high\n",
      "current model: SteveMcConnell-CovidComplete\n",
      "current model: JHU_UNC_GAS-StatMechPool\n",
      "\tdeleting 2020-11-08-JHU_UNC_GAS-StatMechPool.csv because its hash is not recorded but it is uploaded to Zoltar...\n",
      "\tdelete job for 2020-11-08-JHU_UNC_GAS-StatMechPool.csv enqueued\n",
      "current model: YYG-ParamSearch\n",
      "current model: IowaStateLW-STEM\n",
      "\tdeleting 2020-11-08-IowaStateLW-STEM.csv because its hash is not recorded but it is uploaded to Zoltar...\n",
      "\tdelete job for 2020-11-08-IowaStateLW-STEM.csv enqueued\n",
      "current model: MSRA-DeepST\n",
      "current model: UChicago-CovidIL_10_+\n",
      "current model: UMass-ExpertCrowd\n",
      "current model: MITCovAlliance-SIR\n",
      "current model: COVIDhub-ensemble\n",
      "current model: USC-SI_kJalpha\n",
      "\tdeleting 2020-11-08-USC-SI_kJalpha.csv because its hash is not recorded but it is uploaded to Zoltar...\n",
      "\tdelete job for 2020-11-08-USC-SI_kJalpha.csv enqueued\n",
      "current model: ISUandPKU-vSEIdR\n",
      "current model: UChicago-CovidIL_100\n",
      "current model: UChicago-CovidIL_60\n",
      "current model: UMich-RidgeTfReg\n",
      "\tdeleting 2020-11-09-UMich-RidgeTfReg.csv because its hash is not recorded but it is uploaded to Zoltar...\n",
      "\tdelete job for 2020-11-09-UMich-RidgeTfReg.csv enqueued\n",
      "current model: UMass-MechBayes\n",
      "\tdeleting 2020-11-08-UMass-MechBayes.csv because its hash is not recorded but it is uploaded to Zoltar...\n",
      "\tdelete job for 2020-11-08-UMass-MechBayes.csv enqueued\n",
      "current model: UChicago-CovidIL_80\n",
      "current model: epiforecasts-ensemble1\n",
      "\tdeleting 2020-11-09-epiforecasts-ensemble1.csv because its hash is not recorded but it is uploaded to Zoltar...\n",
      "\tdelete job for 2020-11-09-epiforecasts-ensemble1.csv enqueued\n",
      "current model: IQVIA_ACOE-STAN\n",
      "current model: COVIDhub-baseline\n",
      "\tdeleting 2020-11-09-COVIDhub-baseline.csv because its hash is not recorded but it is uploaded to Zoltar...\n",
      "\tdelete job for 2020-11-09-COVIDhub-baseline.csv enqueued\n",
      "current model: UChicagoCHATTOPADHYAY-UnIT\n",
      "current model: USC-SI_kJalpha_RF\n",
      "\tdeleting 2020-11-08-USC-SI_kJalpha_RF.csv because its hash is not recorded but it is uploaded to Zoltar...\n",
      "\tdelete job for 2020-11-08-USC-SI_kJalpha_RF.csv enqueued\n",
      "current model: IHME-CurveFit\n",
      "current model: UChicago-CovidIL\n",
      "current model: UCSD_NEU-DeepGLEAM\n",
      "current model: Imperial-ensemble2\n",
      "current model: JHU_CSSE-DECOM\n",
      "\tdeleting 2020-11-08-JHU_CSSE-DECOM.csv because its hash is not recorded but it is uploaded to Zoltar...\n",
      "\tdelete job for 2020-11-08-JHU_CSSE-DECOM.csv enqueued\n",
      "current model: GT_CHHS-COVID19\n",
      "current model: JCB-PRM\n",
      "current model: CU-select\n",
      "\tdeleting 2020-11-05-CU-select.csv because its hash is not recorded but it is uploaded to Zoltar...\n",
      "\tdelete job for 2020-11-05-CU-select.csv enqueued\n",
      "\tdeleting 2020-11-08-CU-select.csv because its hash is not recorded but it is uploaded to Zoltar...\n",
      "\tdelete job for 2020-11-08-CU-select.csv enqueued\n",
      "current model: PSI-DRAFT\n",
      "\tdeleting 2020-11-09-PSI-DRAFT.csv because its hash is not recorded but it is uploaded to Zoltar...\n",
      "\tdelete job for 2020-11-09-PSI-DRAFT.csv enqueued\n"
     ]
    }
   ]
  },
  {
   "cell_type": "code",
   "execution_count": null,
   "metadata": {},
   "outputs": [],
   "source": []
  }
 ]
}